{
 "cells": [
  {
   "cell_type": "markdown",
   "id": "1f9234f5",
   "metadata": {},
   "source": [
    "# Part 1: Unsupervised Learning"
   ]
  },
  {
   "cell_type": "markdown",
   "id": "6440a40b",
   "metadata": {},
   "source": [
    "## Importing the dataset"
   ]
  },
  {
   "cell_type": "code",
   "execution_count": 1,
   "id": "dc54d327",
   "metadata": {},
   "outputs": [],
   "source": [
    "import pandas as pd"
   ]
  },
  {
   "cell_type": "code",
   "execution_count": 2,
   "id": "282693fc",
   "metadata": {},
   "outputs": [],
   "source": [
    "dataset = pd.read_csv('Credit_Card_Applications.csv')"
   ]
  },
  {
   "cell_type": "code",
   "execution_count": 3,
   "id": "bffcbb11",
   "metadata": {},
   "outputs": [
    {
     "name": "stdout",
     "output_type": "stream",
     "text": [
      "   CustomerID  A1     A2     A3  A4  A5  A6     A7  A8  A9  A10  A11  A12  \\\n",
      "0    15776156   1  22.08  11.46   2   4   4  1.585   0   0    0    1    2   \n",
      "1    15739548   0  22.67   7.00   2   8   4  0.165   0   0    0    0    2   \n",
      "2    15662854   0  29.58   1.75   1   4   4  1.250   0   0    0    1    2   \n",
      "3    15687688   0  21.67  11.50   1   5   3  0.000   1   1   11    1    2   \n",
      "4    15715750   1  20.17   8.17   2   6   4  1.960   1   1   14    0    2   \n",
      "\n",
      "   A13   A14  Class  \n",
      "0  100  1213      0  \n",
      "1  160     1      0  \n",
      "2  280     1      0  \n",
      "3    0     1      1  \n",
      "4   60   159      1  \n"
     ]
    }
   ],
   "source": [
    "print(dataset.head())"
   ]
  },
  {
   "cell_type": "markdown",
   "id": "dda9ba46",
   "metadata": {},
   "source": [
    "## Data Preprocessing"
   ]
  },
  {
   "cell_type": "code",
   "execution_count": 4,
   "id": "91ffcb16",
   "metadata": {},
   "outputs": [
    {
     "name": "stdout",
     "output_type": "stream",
     "text": [
      "CustomerID    0\n",
      "A1            0\n",
      "A2            0\n",
      "A3            0\n",
      "A4            0\n",
      "A5            0\n",
      "A6            0\n",
      "A7            0\n",
      "A8            0\n",
      "A9            0\n",
      "A10           0\n",
      "A11           0\n",
      "A12           0\n",
      "A13           0\n",
      "A14           0\n",
      "Class         0\n",
      "dtype: int64\n"
     ]
    }
   ],
   "source": [
    "print(dataset.isnull().sum())"
   ]
  },
  {
   "cell_type": "markdown",
   "id": "9db6138b",
   "metadata": {},
   "source": [
    "#### Dataset is splitted into 'X' which doesn't include the 'Class' column (which represents approval of customer) from the dataset to classify the customers on the basis of whether they get approved or not later on and 'Y' which includes 'Class' column."
   ]
  },
  {
   "cell_type": "code",
   "execution_count": 5,
   "id": "b29fa230",
   "metadata": {},
   "outputs": [],
   "source": [
    "X = dataset.iloc[:, :-1].values\n",
    "Y = dataset.iloc[:, -1].values"
   ]
  },
  {
   "cell_type": "markdown",
   "id": "74aa8ca5",
   "metadata": {},
   "source": [
    "### Feature Scaling"
   ]
  },
  {
   "cell_type": "code",
   "execution_count": 6,
   "id": "b42ebd1d",
   "metadata": {},
   "outputs": [],
   "source": [
    "from sklearn.preprocessing import MinMaxScaler\n",
    "sc = MinMaxScaler(feature_range = (0,1))\n",
    "X = sc.fit_transform(X)"
   ]
  },
  {
   "cell_type": "markdown",
   "id": "c412a812",
   "metadata": {},
   "source": [
    "## Initialising SOM"
   ]
  },
  {
   "cell_type": "code",
   "execution_count": 7,
   "id": "1107a1a4",
   "metadata": {},
   "outputs": [],
   "source": [
    "from minisom import MiniSom"
   ]
  },
  {
   "cell_type": "code",
   "execution_count": 8,
   "id": "28921455",
   "metadata": {},
   "outputs": [],
   "source": [
    "som = MiniSom(10, 10, input_len=15, sigma=1.0, learning_rate=0.5)\n",
    "som.random_weights_init(X)\n",
    "som.train_random(data = X, num_iteration = 100)"
   ]
  },
  {
   "cell_type": "markdown",
   "id": "1227d345",
   "metadata": {},
   "source": [
    "## Visualising SOM"
   ]
  },
  {
   "cell_type": "code",
   "execution_count": 9,
   "id": "9495b399",
   "metadata": {},
   "outputs": [],
   "source": [
    "from pylab import bone, pcolor, colorbar, plot, show"
   ]
  },
  {
   "cell_type": "code",
   "execution_count": 10,
   "id": "d9541e05",
   "metadata": {},
   "outputs": [
    {
     "data": {
      "image/png": "[encoded data removed]",
      "text/plain": [
       "<Figure size 432x288 with 2 Axes>"
      ]
     },
     "metadata": {
      "needs_background": "light"
     },
     "output_type": "display_data"
    }
   ],
   "source": [
    "bone()\n",
    "pcolor(som.distance_map().T)\n",
    "colorbar()\n",
    "markers = ['o', 's']\n",
    "colors = ['r', 'g']\n",
    "for i,j in enumerate(X):\n",
    "    w = som.winner(j)\n",
    "    plot(w[0]+0.5, w[1]+0.5,\n",
    "        markers[Y[i]],\n",
    "        markeredgecolor = colors[Y[i]],\n",
    "        markerfacecolor = 'None',\n",
    "        markersize = 10,\n",
    "        markeredgewidth = 2)\n",
    "show()"
   ]
  },
  {
   "cell_type": "markdown",
   "id": "5bacfa89",
   "metadata": {},
   "source": [
    "### Concatenating set of customers which are frauds and get approved"
   ]
  },
  {
   "cell_type": "code",
   "execution_count": 11,
   "id": "34928e56",
   "metadata": {},
   "outputs": [],
   "source": [
    "import numpy as np\n",
    "mapping = som.win_map(X)\n",
    "frauds = np.concatenate((mapping[(1,6)], mapping[(2,7)], mapping[(3,6)], mapping[(3,8)]), axis=0)\n",
    "frauds = sc.inverse_transform(frauds)"
   ]
  },
  {
   "cell_type": "code",
   "execution_count": 12,
   "id": "57bee069",
   "metadata": {},
   "outputs": [
    {
     "name": "stdout",
     "output_type": "stream",
     "text": [
      "15678882.0\n",
      "15617348.0\n",
      "15671769.0\n",
      "15575243.0\n",
      "15750921.0\n",
      "15728010.0\n",
      "15627190.0\n",
      "15689268.0\n",
      "15607746.0\n",
      "15605341.0\n",
      "15649430.0\n",
      "15595010.0\n",
      "15790254.0\n",
      "15748552.0\n",
      "15757467.0\n",
      "15801441.0\n",
      "15815443.0\n",
      "15748432.0\n",
      "15699963.0\n",
      "15771856.0\n",
      "15696287.0\n",
      "15698749.0\n",
      "15687688.0\n",
      "15789611.0\n",
      "15738487.0\n",
      "15649160.0\n",
      "15781875.0\n",
      "15809837.0\n",
      "15621244.0\n",
      "15632789.0\n",
      "15761554.0\n",
      "15811690.0\n",
      "15815095.0\n",
      "15720725.0\n",
      "15694677.0\n",
      "15772941.0\n",
      "15759387.0\n",
      "15698522.0\n",
      "15704081.0\n",
      "15597536.0\n",
      "15671582.0\n",
      "15591360.0\n",
      "15722479.0\n",
      "15730360.0\n",
      "15592326.0\n",
      "15703177.0\n",
      "15733602.0\n",
      "15693382.0\n",
      "15752601.0\n",
      "15632669.0\n"
     ]
    }
   ],
   "source": [
    "for i in frauds[:,0]:\n",
    "    print(i)"
   ]
  },
  {
   "cell_type": "markdown",
   "id": "ff770b32",
   "metadata": {},
   "source": [
    "# Part 2: Supervised Learning"
   ]
  },
  {
   "cell_type": "markdown",
   "id": "0cb0f32a",
   "metadata": {},
   "source": [
    "## Data Preprocessing"
   ]
  },
  {
   "cell_type": "markdown",
   "id": "91f971df",
   "metadata": {},
   "source": [
    "### Features"
   ]
  },
  {
   "cell_type": "code",
   "execution_count": 13,
   "id": "085690d3",
   "metadata": {},
   "outputs": [],
   "source": [
    "features = dataset.iloc[:,1:].values"
   ]
  },
  {
   "cell_type": "markdown",
   "id": "376545af",
   "metadata": {},
   "source": [
    "### Creating target variable (whether a customer is fraud or not as analysed by unsupervised learning)"
   ]
  },
  {
   "cell_type": "code",
   "execution_count": 14,
   "id": "bb4261bb",
   "metadata": {},
   "outputs": [],
   "source": [
    "is_fraud = np.zeros(len(dataset))"
   ]
  },
  {
   "cell_type": "code",
   "execution_count": 15,
   "id": "9f82be7f",
   "metadata": {},
   "outputs": [
    {
     "name": "stdout",
     "output_type": "stream",
     "text": [
      "[0. 0. 0. 1. 0. 0. 0. 0. 0. 0. 0. 0. 0. 0. 0. 0. 0. 1. 0. 0. 0. 0. 0. 0.\n",
      " 0. 0. 0. 0. 1. 0. 0. 0. 0. 0. 0. 0. 0. 1. 1. 0. 0. 0. 0. 1. 0. 1. 0. 0.\n",
      " 0. 1. 0. 0. 0. 0. 0. 0. 0. 0. 0. 1. 0. 0. 0. 0. 0. 0. 0. 0. 0. 0. 0. 0.\n",
      " 0. 0. 0. 0. 0. 0. 0. 0. 1. 0. 0. 0. 0. 0. 0. 1. 0. 0. 0. 0. 0. 0. 0. 0.\n",
      " 0. 0. 0. 0. 0. 0. 0. 0. 0. 0. 1. 0. 0. 0. 0. 0. 0. 1. 0. 1. 0. 0. 0. 0.\n",
      " 0. 0. 0. 1. 0. 0. 1. 0. 0. 0. 1. 0. 0. 0. 0. 0. 0. 0. 0. 1. 0. 0. 0. 0.\n",
      " 0. 0. 0. 0. 0. 0. 0. 0. 0. 0. 0. 0. 0. 0. 0. 0. 0. 0. 0. 0. 0. 0. 0. 0.\n",
      " 0. 0. 0. 1. 0. 0. 0. 0. 0. 0. 0. 0. 0. 1. 0. 0. 0. 0. 0. 0. 0. 0. 0. 0.\n",
      " 0. 0. 0. 0. 0. 0. 0. 0. 0. 0. 0. 0. 0. 0. 0. 0. 0. 0. 0. 0. 0. 0. 0. 0.\n",
      " 0. 0. 0. 0. 1. 0. 0. 0. 0. 0. 0. 0. 0. 0. 0. 0. 0. 0. 1. 0. 0. 0. 0. 0.\n",
      " 0. 0. 1. 0. 0. 0. 0. 1. 0. 0. 0. 0. 0. 0. 0. 0. 0. 0. 0. 0. 0. 0. 0. 0.\n",
      " 0. 0. 0. 0. 0. 0. 0. 0. 0. 0. 1. 0. 0. 0. 0. 1. 0. 0. 0. 0. 0. 0. 0. 0.\n",
      " 0. 0. 0. 0. 0. 0. 0. 0. 0. 0. 0. 0. 1. 0. 0. 0. 0. 0. 0. 0. 0. 0. 0. 0.\n",
      " 1. 0. 0. 0. 0. 1. 0. 1. 0. 0. 1. 0. 0. 0. 0. 0. 0. 0. 0. 0. 0. 0. 0. 0.\n",
      " 0. 0. 0. 0. 0. 0. 1. 1. 0. 1. 0. 0. 0. 0. 0. 0. 0. 0. 0. 0. 0. 0. 0. 0.\n",
      " 0. 0. 0. 0. 0. 0. 0. 0. 0. 0. 0. 0. 0. 0. 0. 1. 0. 0. 0. 0. 1. 0. 0. 0.\n",
      " 0. 0. 0. 0. 0. 0. 0. 0. 0. 0. 0. 0. 0. 0. 0. 0. 0. 0. 0. 0. 0. 1. 0. 0.\n",
      " 0. 0. 0. 0. 1. 0. 0. 0. 0. 1. 0. 0. 0. 0. 0. 0. 0. 0. 0. 0. 0. 0. 0. 0.\n",
      " 0. 0. 0. 0. 0. 0. 0. 0. 0. 0. 0. 0. 0. 0. 0. 0. 0. 0. 0. 0. 0. 0. 0. 0.\n",
      " 0. 0. 0. 0. 0. 0. 0. 0. 0. 0. 1. 0. 0. 0. 0. 0. 0. 0. 0. 0. 0. 0. 0. 0.\n",
      " 0. 0. 0. 0. 0. 0. 0. 0. 0. 0. 0. 1. 0. 0. 0. 0. 0. 0. 0. 0. 0. 0. 1. 0.\n",
      " 0. 0. 0. 0. 0. 0. 0. 0. 0. 0. 0. 0. 0. 0. 0. 0. 0. 0. 0. 0. 1. 0. 0. 0.\n",
      " 0. 0. 0. 0. 0. 0. 0. 0. 0. 0. 0. 0. 0. 0. 1. 0. 0. 0. 0. 0. 0. 0. 0. 0.\n",
      " 0. 0. 0. 0. 0. 0. 0. 0. 0. 0. 0. 0. 0. 1. 0. 0. 0. 0. 0. 0. 0. 0. 0. 0.\n",
      " 0. 0. 0. 0. 0. 0. 0. 0. 0. 1. 0. 0. 0. 0. 0. 0. 0. 0. 0. 0. 0. 0. 0. 0.\n",
      " 0. 0. 1. 0. 0. 0. 0. 0. 0. 0. 0. 0. 0. 0. 0. 0. 0. 0. 0. 1. 0. 0. 0. 0.\n",
      " 0. 0. 0. 0. 0. 0. 0. 0. 0. 0. 0. 0. 0. 0. 0. 0. 0. 0. 0. 0. 1. 0. 1. 0.\n",
      " 0. 0. 0. 0. 0. 0. 0. 0. 0. 0. 0. 0. 0. 0. 0. 0. 0. 0. 0. 0. 0. 0. 0. 0.\n",
      " 0. 0. 0. 0. 0. 0. 0. 0. 0. 0. 0. 0. 0. 0. 0. 0. 0. 0.]\n"
     ]
    }
   ],
   "source": [
    "for i in range(len(dataset)):\n",
    "    if dataset['CustomerID'][i] in frauds:\n",
    "        is_fraud[i] = 1\n",
    "print(is_fraud)"
   ]
  },
  {
   "cell_type": "markdown",
   "id": "3996d631",
   "metadata": {},
   "source": [
    "### Feature Scaling"
   ]
  },
  {
   "cell_type": "code",
   "execution_count": 17,
   "id": "1f288ffd",
   "metadata": {},
   "outputs": [],
   "source": [
    "from sklearn.preprocessing import StandardScaler\n",
    "scale = StandardScaler()\n",
    "features = scale.fit_transform(features)"
   ]
  },
  {
   "cell_type": "markdown",
   "id": "76f97090",
   "metadata": {},
   "source": [
    "## Building ANN"
   ]
  },
  {
   "cell_type": "code",
   "execution_count": 18,
   "id": "f829dd09",
   "metadata": {},
   "outputs": [],
   "source": [
    "import tensorflow as tf"
   ]
  },
  {
   "cell_type": "code",
   "execution_count": 19,
   "id": "46229806",
   "metadata": {},
   "outputs": [],
   "source": [
    "ann = tf.keras.models.Sequential()\n",
    "ann.add(tf.keras.layers.Dense(units = 3, activation = 'relu'))"
   ]
  },
  {
   "cell_type": "code",
   "execution_count": 20,
   "id": "db7e7a0c",
   "metadata": {},
   "outputs": [],
   "source": [
    "ann.add(tf.keras.layers.Dense(units = 1, activation = 'sigmoid'))"
   ]
  },
  {
   "cell_type": "code",
   "execution_count": 21,
   "id": "7a16bd6d",
   "metadata": {},
   "outputs": [],
   "source": [
    "ann.compile(optimizer = 'adam', loss = 'binary_crossentropy', metrics = ['accuracy'])"
   ]
  },
  {
   "cell_type": "markdown",
   "id": "414d621c",
   "metadata": {},
   "source": [
    "### Training"
   ]
  },
  {
   "cell_type": "code",
   "execution_count": 22,
   "id": "164e1c59",
   "metadata": {},
   "outputs": [
    {
     "name": "stdout",
     "output_type": "stream",
     "text": [
      "Epoch 1/10\n",
      "230/230 [==============================] - 0s 1ms/step - loss: 0.7651 - accuracy: 0.5551\n",
      "Epoch 2/10\n",
      "230/230 [==============================] - 0s 1ms/step - loss: 0.5471 - accuracy: 0.8304\n",
      "Epoch 3/10\n",
      "230/230 [==============================] - 0s 984us/step - loss: 0.4287 - accuracy: 0.9029\n",
      "Epoch 4/10\n",
      "230/230 [==============================] - 0s 1ms/step - loss: 0.3570 - accuracy: 0.9145\n",
      "Epoch 5/10\n",
      "230/230 [==============================] - 0s 1ms/step - loss: 0.3091 - accuracy: 0.9217\n",
      "Epoch 6/10\n",
      "230/230 [==============================] - 0s 945us/step - loss: 0.2745 - accuracy: 0.9232\n",
      "Epoch 7/10\n",
      "230/230 [==============================] - 0s 1ms/step - loss: 0.2480 - accuracy: 0.9261\n",
      "Epoch 8/10\n",
      "230/230 [==============================] - 0s 1ms/step - loss: 0.2281 - accuracy: 0.9275\n",
      "Epoch 9/10\n",
      "230/230 [==============================] - 0s 1ms/step - loss: 0.2127 - accuracy: 0.9275\n",
      "Epoch 10/10\n",
      "230/230 [==============================] - 0s 1ms/step - loss: 0.2006 - accuracy: 0.9290\n"
     ]
    },
    {
     "data": {
      "text/plain": [
       "<tensorflow.python.keras.callbacks.History at 0x1f042dbaac0>"
      ]
     },
     "execution_count": 22,
     "metadata": {},
     "output_type": "execute_result"
    }
   ],
   "source": [
    "ann.fit(features, is_fraud, batch_size = 3, epochs = 10)"
   ]
  },
  {
   "cell_type": "markdown",
   "id": "f6de6112",
   "metadata": {},
   "source": [
    "### Predicting the probability of fraud for each customer"
   ]
  },
  {
   "cell_type": "code",
   "execution_count": 23,
   "id": "3915c6c9",
   "metadata": {},
   "outputs": [],
   "source": [
    "ypred = ann.predict(features)"
   ]
  },
  {
   "cell_type": "code",
   "execution_count": 24,
   "id": "9231ff28",
   "metadata": {},
   "outputs": [],
   "source": [
    "ypred = np.concatenate((dataset.iloc[:,0:1].values, ypred), axis = 1)\n",
    "ypred = ypred[ypred[:, 1].argsort()]"
   ]
  },
  {
   "cell_type": "code",
   "execution_count": 25,
   "id": "3659683e",
   "metadata": {},
   "outputs": [
    {
     "data": {
      "text/plain": [
       "array([[1.56458200e+07, 6.40243292e-04],\n",
       "       [1.55681620e+07, 7.29322433e-04],\n",
       "       [1.57163470e+07, 7.46488571e-04],\n",
       "       ...,\n",
       "       [1.56921370e+07, 4.32148188e-01],\n",
       "       [1.56987490e+07, 4.33488369e-01],\n",
       "       [1.57729410e+07, 5.18322825e-01]])"
      ]
     },
     "execution_count": 25,
     "metadata": {},
     "output_type": "execute_result"
    }
   ],
   "source": [
    "ypred"
   ]
  },
  {
   "cell_type": "code",
   "execution_count": null,
   "id": "addf270c",
   "metadata": {},
   "outputs": [],
   "source": []
  }
 ],
 "metadata": {
  "kernelspec": {
   "display_name": "Python 3",
   "language": "python",
   "name": "python3"
  },
  "language_info": {
   "codemirror_mode": {
    "name": "ipython",
    "version": 3
   },
   "file_extension": ".py",
   "mimetype": "text/x-python",
   "name": "python",
   "nbconvert_exporter": "python",
   "pygments_lexer": "ipython3",
   "version": "3.8.8"
  }
 },
 "nbformat": 4,
 "nbformat_minor": 5
}
